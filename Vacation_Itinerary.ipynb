{
 "cells": [
  {
   "cell_type": "code",
   "execution_count": 1,
   "metadata": {},
   "outputs": [],
   "source": [
    "# Import the dependencies.\n",
    "import pandas as pd\n",
    "import gmaps\n",
    "import requests\n",
    "# Import the API key.\n",
    "from config import g_key"
   ]
  },
  {
   "cell_type": "code",
   "execution_count": 2,
   "metadata": {},
   "outputs": [],
   "source": [
    "# Configure gmaps to use your Google API key.\n",
    "gmaps.configure(api_key=g_key)"
   ]
  },
  {
   "cell_type": "code",
   "execution_count": 5,
   "metadata": {},
   "outputs": [
    {
     "data": {
      "text/html": [
       "<div>\n",
       "<style scoped>\n",
       "    .dataframe tbody tr th:only-of-type {\n",
       "        vertical-align: middle;\n",
       "    }\n",
       "\n",
       "    .dataframe tbody tr th {\n",
       "        vertical-align: top;\n",
       "    }\n",
       "\n",
       "    .dataframe thead th {\n",
       "        text-align: right;\n",
       "    }\n",
       "</style>\n",
       "<table border=\"1\" class=\"dataframe\">\n",
       "  <thead>\n",
       "    <tr style=\"text-align: right;\">\n",
       "      <th></th>\n",
       "      <th>City_ID</th>\n",
       "      <th>City</th>\n",
       "      <th>Country</th>\n",
       "      <th>Max Temp</th>\n",
       "      <th>Weather Description</th>\n",
       "      <th>Lat</th>\n",
       "      <th>Lng</th>\n",
       "      <th>Hotel Name</th>\n",
       "    </tr>\n",
       "  </thead>\n",
       "  <tbody>\n",
       "    <tr>\n",
       "      <th>0</th>\n",
       "      <td>2</td>\n",
       "      <td>Carire</td>\n",
       "      <td>BR</td>\n",
       "      <td>79.88</td>\n",
       "      <td>broken clouds</td>\n",
       "      <td>-3.95</td>\n",
       "      <td>-40.47</td>\n",
       "      <td>NaN</td>\n",
       "    </tr>\n",
       "    <tr>\n",
       "      <th>1</th>\n",
       "      <td>6</td>\n",
       "      <td>Victoria</td>\n",
       "      <td>BN</td>\n",
       "      <td>82.40</td>\n",
       "      <td>broken clouds</td>\n",
       "      <td>5.28</td>\n",
       "      <td>115.24</td>\n",
       "      <td>Tiara Labuan Hotel</td>\n",
       "    </tr>\n",
       "    <tr>\n",
       "      <th>2</th>\n",
       "      <td>10</td>\n",
       "      <td>Hilo</td>\n",
       "      <td>US</td>\n",
       "      <td>84.20</td>\n",
       "      <td>clear sky</td>\n",
       "      <td>19.71</td>\n",
       "      <td>-155.08</td>\n",
       "      <td>Hilo Seaside Hotel</td>\n",
       "    </tr>\n",
       "    <tr>\n",
       "      <th>3</th>\n",
       "      <td>22</td>\n",
       "      <td>Lorengau</td>\n",
       "      <td>PG</td>\n",
       "      <td>80.74</td>\n",
       "      <td>overcast clouds</td>\n",
       "      <td>-2.02</td>\n",
       "      <td>147.27</td>\n",
       "      <td>Lorengau Harbourside Hotel</td>\n",
       "    </tr>\n",
       "    <tr>\n",
       "      <th>4</th>\n",
       "      <td>29</td>\n",
       "      <td>Nelson Bay</td>\n",
       "      <td>AU</td>\n",
       "      <td>86.00</td>\n",
       "      <td>clear sky</td>\n",
       "      <td>-32.72</td>\n",
       "      <td>152.14</td>\n",
       "      <td>Mantra Aqua</td>\n",
       "    </tr>\n",
       "  </tbody>\n",
       "</table>\n",
       "</div>"
      ],
      "text/plain": [
       "   City_ID        City Country  Max Temp Weather Description    Lat     Lng  \\\n",
       "0        2      Carire      BR     79.88       broken clouds  -3.95  -40.47   \n",
       "1        6    Victoria      BN     82.40       broken clouds   5.28  115.24   \n",
       "2       10        Hilo      US     84.20           clear sky  19.71 -155.08   \n",
       "3       22    Lorengau      PG     80.74     overcast clouds  -2.02  147.27   \n",
       "4       29  Nelson Bay      AU     86.00           clear sky -32.72  152.14   \n",
       "\n",
       "                   Hotel Name  \n",
       "0                         NaN  \n",
       "1          Tiara Labuan Hotel  \n",
       "2          Hilo Seaside Hotel  \n",
       "3  Lorengau Harbourside Hotel  \n",
       "4                 Mantra Aqua  "
      ]
     },
     "execution_count": 5,
     "metadata": {},
     "output_type": "execute_result"
    }
   ],
   "source": [
    "# Store the CSV you saved created in part one into a DataFrame.\n",
    "hotel_df = pd.read_csv(\"WeatherPy_vacation.csv\")\n",
    "hotel_df.head()"
   ]
  },
  {
   "cell_type": "code",
   "execution_count": 6,
   "metadata": {},
   "outputs": [],
   "source": [
    "# Set city name as the index\n",
    "hotel_df.set_index('City', inplace=True)"
   ]
  },
  {
   "cell_type": "code",
   "execution_count": 15,
   "metadata": {},
   "outputs": [
    {
     "data": {
      "text/plain": [
       "City_ID                      464\n",
       "Country                       NE\n",
       "Max Temp                   85.87\n",
       "Weather Description    clear sky\n",
       "Lat                        14.32\n",
       "Lng                         2.08\n",
       "Hotel Name                   NaN\n",
       "Name: Ouallam, dtype: object"
      ]
     },
     "execution_count": 15,
     "metadata": {},
     "output_type": "execute_result"
    }
   ],
   "source": [
    "# Choose 5 cities to travel to\n",
    "robertsport_data = hotel_df.loc['Robertsport']\n",
    "banfora_data = hotel_df.loc['Banfora']\n",
    "tombouctou_data = hotel_df.loc['Tombouctou']\n",
    "gao_data = hotel_df.loc['Gao']\n",
    "ouallam_data = hotel_df.loc['Ouallam']\n",
    "\n",
    "ouallam_data"
   ]
  },
  {
   "cell_type": "code",
   "execution_count": 13,
   "metadata": {},
   "outputs": [
    {
     "data": {
      "text/html": [
       "<div>\n",
       "<style scoped>\n",
       "    .dataframe tbody tr th:only-of-type {\n",
       "        vertical-align: middle;\n",
       "    }\n",
       "\n",
       "    .dataframe tbody tr th {\n",
       "        vertical-align: top;\n",
       "    }\n",
       "\n",
       "    .dataframe thead th {\n",
       "        text-align: right;\n",
       "    }\n",
       "</style>\n",
       "<table border=\"1\" class=\"dataframe\">\n",
       "  <thead>\n",
       "    <tr style=\"text-align: right;\">\n",
       "      <th></th>\n",
       "      <th>City_ID</th>\n",
       "      <th>Country</th>\n",
       "      <th>Max Temp</th>\n",
       "      <th>Weather Description</th>\n",
       "      <th>Lat</th>\n",
       "      <th>Lng</th>\n",
       "      <th>Hotel Name</th>\n",
       "    </tr>\n",
       "  </thead>\n",
       "  <tbody>\n",
       "    <tr>\n",
       "      <th>Robertsport</th>\n",
       "      <td>431</td>\n",
       "      <td>LR</td>\n",
       "      <td>82.45</td>\n",
       "      <td>scattered clouds</td>\n",
       "      <td>6.75</td>\n",
       "      <td>-11.37</td>\n",
       "      <td>Kwepunha Retreat</td>\n",
       "    </tr>\n",
       "    <tr>\n",
       "      <th>Banfora</th>\n",
       "      <td>142</td>\n",
       "      <td>BF</td>\n",
       "      <td>78.22</td>\n",
       "      <td>clear sky</td>\n",
       "      <td>10.64</td>\n",
       "      <td>-4.75</td>\n",
       "      <td>Residences David Hebié</td>\n",
       "    </tr>\n",
       "    <tr>\n",
       "      <th>Tombouctou</th>\n",
       "      <td>413</td>\n",
       "      <td>ML</td>\n",
       "      <td>84.76</td>\n",
       "      <td>few clouds</td>\n",
       "      <td>16.77</td>\n",
       "      <td>-3.01</td>\n",
       "      <td>Hotel Sahara Passion</td>\n",
       "    </tr>\n",
       "    <tr>\n",
       "      <th>Gao</th>\n",
       "      <td>241</td>\n",
       "      <td>ML</td>\n",
       "      <td>82.40</td>\n",
       "      <td>clear sky</td>\n",
       "      <td>16.28</td>\n",
       "      <td>-0.04</td>\n",
       "      <td>Auberge Escale Saneye</td>\n",
       "    </tr>\n",
       "    <tr>\n",
       "      <th>Ouallam</th>\n",
       "      <td>464</td>\n",
       "      <td>NE</td>\n",
       "      <td>85.87</td>\n",
       "      <td>clear sky</td>\n",
       "      <td>14.32</td>\n",
       "      <td>2.08</td>\n",
       "      <td>NaN</td>\n",
       "    </tr>\n",
       "  </tbody>\n",
       "</table>\n",
       "</div>"
      ],
      "text/plain": [
       "             City_ID Country  Max Temp Weather Description    Lat    Lng  \\\n",
       "Robertsport      431      LR     82.45    scattered clouds   6.75 -11.37   \n",
       "Banfora          142      BF     78.22           clear sky  10.64  -4.75   \n",
       "Tombouctou       413      ML     84.76          few clouds  16.77  -3.01   \n",
       "Gao              241      ML     82.40           clear sky  16.28  -0.04   \n",
       "Ouallam          464      NE     85.87           clear sky  14.32   2.08   \n",
       "\n",
       "                         Hotel Name  \n",
       "Robertsport        Kwepunha Retreat  \n",
       "Banfora      Residences David Hebié  \n",
       "Tombouctou     Hotel Sahara Passion  \n",
       "Gao           Auberge Escale Saneye  \n",
       "Ouallam                         NaN  "
      ]
     },
     "execution_count": 13,
     "metadata": {},
     "output_type": "execute_result"
    }
   ],
   "source": [
    "# Combine Series into single DataFrame\n",
    "cols = ['City_ID', 'Country', 'Max Temp', 'Weather Description',\n",
    "          'Lat', 'Lng', 'Hotel Name']\n",
    "\n",
    "list_of_cities = [robertsport_data, banfora_data, \n",
    "                  tombouctou_data, gao_data, ouallam_data]\n",
    "\n",
    "destination_cities_df = pd.DataFrame(list_of_cities, columns=cols)\n",
    "\n",
    "destination_cities_df"
   ]
  },
  {
   "cell_type": "code",
   "execution_count": 19,
   "metadata": {},
   "outputs": [
    {
     "data": {
      "application/vnd.jupyter.widget-view+json": {
       "model_id": "f511182378854968a359f1e8c058e9c7",
       "version_major": 2,
       "version_minor": 0
      },
      "text/plain": [
       "Figure(layout=FigureLayout(height='420px'))"
      ]
     },
     "metadata": {},
     "output_type": "display_data"
    }
   ],
   "source": [
    "# Want to travel from Robertsport -> Banfora -> Tombouctou -> Gao -> Ouallam\n",
    "start = (robertsport_data['Lat'], robertsport_data['Lng'])\n",
    "finish = (ouallam_data['Lat'], ouallam_data['Lng'])\n",
    "\n",
    "stop_1 = (banfora_data['Lat'], banfora_data['Lng'])\n",
    "stop_2 = (tombouctou_data['Lat'], tombouctou_data['Lng'])\n",
    "stop_3 = (gao_data['Lat'], gao_data['Lng'])\n",
    "\n",
    "fig = gmaps.figure()\n",
    "route = gmaps.directions_layer(start, finish, \n",
    "                               waypoints=[stop_1, stop_2, stop_3], \n",
    "                               travel_mode='DRIVING')\n",
    "\n",
    "fig.add_layer(route)\n",
    "fig"
   ]
  },
  {
   "cell_type": "code",
   "execution_count": null,
   "metadata": {},
   "outputs": [],
   "source": []
  }
 ],
 "metadata": {
  "kernelspec": {
   "display_name": "pythondata",
   "language": "python",
   "name": "pythondata"
  },
  "language_info": {
   "codemirror_mode": {
    "name": "ipython",
    "version": 3
   },
   "file_extension": ".py",
   "mimetype": "text/x-python",
   "name": "python",
   "nbconvert_exporter": "python",
   "pygments_lexer": "ipython3",
   "version": "3.6.9"
  }
 },
 "nbformat": 4,
 "nbformat_minor": 2
}
