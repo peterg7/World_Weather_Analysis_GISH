{
 "cells": [
  {
   "cell_type": "code",
   "execution_count": 1,
   "metadata": {},
   "outputs": [],
   "source": [
    "# Import the dependencies.\n",
    "import pandas as pd\n",
    "import gmaps\n",
    "import requests\n",
    "# Import the API key.\n",
    "from config import g_key"
   ]
  },
  {
   "cell_type": "code",
   "execution_count": 2,
   "metadata": {},
   "outputs": [],
   "source": [
    "# Configure gmaps to use your Google API key.\n",
    "gmaps.configure(api_key=g_key)"
   ]
  },
  {
   "cell_type": "code",
   "execution_count": 22,
   "metadata": {},
   "outputs": [
    {
     "data": {
      "text/html": [
       "<div>\n",
       "<style scoped>\n",
       "    .dataframe tbody tr th:only-of-type {\n",
       "        vertical-align: middle;\n",
       "    }\n",
       "\n",
       "    .dataframe tbody tr th {\n",
       "        vertical-align: top;\n",
       "    }\n",
       "\n",
       "    .dataframe thead th {\n",
       "        text-align: right;\n",
       "    }\n",
       "</style>\n",
       "<table border=\"1\" class=\"dataframe\">\n",
       "  <thead>\n",
       "    <tr style=\"text-align: right;\">\n",
       "      <th></th>\n",
       "      <th>City_ID</th>\n",
       "      <th>City</th>\n",
       "      <th>Country</th>\n",
       "      <th>Max Temp</th>\n",
       "      <th>Weather Description</th>\n",
       "      <th>Lat</th>\n",
       "      <th>Lng</th>\n",
       "      <th>Hotel Name</th>\n",
       "    </tr>\n",
       "  </thead>\n",
       "  <tbody>\n",
       "    <tr>\n",
       "      <th>0</th>\n",
       "      <td>2</td>\n",
       "      <td>Carire</td>\n",
       "      <td>BR</td>\n",
       "      <td>79.88</td>\n",
       "      <td>broken clouds</td>\n",
       "      <td>-3.95</td>\n",
       "      <td>-40.47</td>\n",
       "      <td>NaN</td>\n",
       "    </tr>\n",
       "    <tr>\n",
       "      <th>1</th>\n",
       "      <td>6</td>\n",
       "      <td>Victoria</td>\n",
       "      <td>BN</td>\n",
       "      <td>82.40</td>\n",
       "      <td>broken clouds</td>\n",
       "      <td>5.28</td>\n",
       "      <td>115.24</td>\n",
       "      <td>Tiara Labuan Hotel</td>\n",
       "    </tr>\n",
       "    <tr>\n",
       "      <th>2</th>\n",
       "      <td>10</td>\n",
       "      <td>Hilo</td>\n",
       "      <td>US</td>\n",
       "      <td>84.20</td>\n",
       "      <td>clear sky</td>\n",
       "      <td>19.71</td>\n",
       "      <td>-155.08</td>\n",
       "      <td>Hilo Seaside Hotel</td>\n",
       "    </tr>\n",
       "    <tr>\n",
       "      <th>3</th>\n",
       "      <td>22</td>\n",
       "      <td>Lorengau</td>\n",
       "      <td>PG</td>\n",
       "      <td>80.74</td>\n",
       "      <td>overcast clouds</td>\n",
       "      <td>-2.02</td>\n",
       "      <td>147.27</td>\n",
       "      <td>Lorengau Harbourside Hotel</td>\n",
       "    </tr>\n",
       "    <tr>\n",
       "      <th>4</th>\n",
       "      <td>29</td>\n",
       "      <td>Nelson Bay</td>\n",
       "      <td>AU</td>\n",
       "      <td>86.00</td>\n",
       "      <td>clear sky</td>\n",
       "      <td>-32.72</td>\n",
       "      <td>152.14</td>\n",
       "      <td>Mantra Aqua</td>\n",
       "    </tr>\n",
       "  </tbody>\n",
       "</table>\n",
       "</div>"
      ],
      "text/plain": [
       "   City_ID        City Country  Max Temp Weather Description    Lat     Lng  \\\n",
       "0        2      Carire      BR     79.88       broken clouds  -3.95  -40.47   \n",
       "1        6    Victoria      BN     82.40       broken clouds   5.28  115.24   \n",
       "2       10        Hilo      US     84.20           clear sky  19.71 -155.08   \n",
       "3       22    Lorengau      PG     80.74     overcast clouds  -2.02  147.27   \n",
       "4       29  Nelson Bay      AU     86.00           clear sky -32.72  152.14   \n",
       "\n",
       "                   Hotel Name  \n",
       "0                         NaN  \n",
       "1          Tiara Labuan Hotel  \n",
       "2          Hilo Seaside Hotel  \n",
       "3  Lorengau Harbourside Hotel  \n",
       "4                 Mantra Aqua  "
      ]
     },
     "execution_count": 22,
     "metadata": {},
     "output_type": "execute_result"
    }
   ],
   "source": [
    "# Store the CSV you saved created in part one into a DataFrame.\n",
    "hotel_df = pd.read_csv(\"WeatherPy_vacation.csv\")\n",
    "hotel_df.head()"
   ]
  },
  {
   "cell_type": "code",
   "execution_count": 6,
   "metadata": {},
   "outputs": [],
   "source": []
  },
  {
   "cell_type": "code",
   "execution_count": 41,
   "metadata": {},
   "outputs": [
    {
     "data": {
      "text/html": [
       "<div>\n",
       "<style scoped>\n",
       "    .dataframe tbody tr th:only-of-type {\n",
       "        vertical-align: middle;\n",
       "    }\n",
       "\n",
       "    .dataframe tbody tr th {\n",
       "        vertical-align: top;\n",
       "    }\n",
       "\n",
       "    .dataframe thead th {\n",
       "        text-align: right;\n",
       "    }\n",
       "</style>\n",
       "<table border=\"1\" class=\"dataframe\">\n",
       "  <thead>\n",
       "    <tr style=\"text-align: right;\">\n",
       "      <th></th>\n",
       "      <th>City_ID</th>\n",
       "      <th>City</th>\n",
       "      <th>Country</th>\n",
       "      <th>Max Temp</th>\n",
       "      <th>Weather Description</th>\n",
       "      <th>Lat</th>\n",
       "      <th>Lng</th>\n",
       "      <th>Hotel Name</th>\n",
       "    </tr>\n",
       "  </thead>\n",
       "  <tbody>\n",
       "    <tr>\n",
       "      <th>115</th>\n",
       "      <td>464</td>\n",
       "      <td>Ouallam</td>\n",
       "      <td>NE</td>\n",
       "      <td>85.87</td>\n",
       "      <td>clear sky</td>\n",
       "      <td>14.32</td>\n",
       "      <td>2.08</td>\n",
       "      <td>NaN</td>\n",
       "    </tr>\n",
       "  </tbody>\n",
       "</table>\n",
       "</div>"
      ],
      "text/plain": [
       "     City_ID     City Country  Max Temp Weather Description    Lat   Lng  \\\n",
       "115      464  Ouallam      NE     85.87           clear sky  14.32  2.08   \n",
       "\n",
       "    Hotel Name  \n",
       "115        NaN  "
      ]
     },
     "execution_count": 41,
     "metadata": {},
     "output_type": "execute_result"
    }
   ],
   "source": [
    "# Choose 5 cities to travel to\n",
    "robertsport_data = hotel_df.loc[hotel_df['City'] == 'Robertsport']\n",
    "banfora_data = hotel_df.loc[hotel_df['City'] == 'Banfora']\n",
    "tombouctou_data = hotel_df.loc[hotel_df['City'] == 'Tombouctou']\n",
    "gao_data = hotel_df.loc[hotel_df['City'] == 'Gao']\n",
    "ouallam_data = hotel_df.loc[hotel_df['City'] == 'Ouallam']\n",
    "\n",
    "ouallam_data"
   ]
  },
  {
   "cell_type": "code",
   "execution_count": 32,
   "metadata": {},
   "outputs": [
    {
     "data": {
      "text/html": [
       "<div>\n",
       "<style scoped>\n",
       "    .dataframe tbody tr th:only-of-type {\n",
       "        vertical-align: middle;\n",
       "    }\n",
       "\n",
       "    .dataframe tbody tr th {\n",
       "        vertical-align: top;\n",
       "    }\n",
       "\n",
       "    .dataframe thead th {\n",
       "        text-align: right;\n",
       "    }\n",
       "</style>\n",
       "<table border=\"1\" class=\"dataframe\">\n",
       "  <thead>\n",
       "    <tr style=\"text-align: right;\">\n",
       "      <th></th>\n",
       "      <th>City_ID</th>\n",
       "      <th>City</th>\n",
       "      <th>Country</th>\n",
       "      <th>Max Temp</th>\n",
       "      <th>Weather Description</th>\n",
       "      <th>Lat</th>\n",
       "      <th>Lng</th>\n",
       "      <th>Hotel Name</th>\n",
       "    </tr>\n",
       "  </thead>\n",
       "  <tbody>\n",
       "    <tr>\n",
       "      <th>108</th>\n",
       "      <td>431</td>\n",
       "      <td>Robertsport</td>\n",
       "      <td>LR</td>\n",
       "      <td>82.45</td>\n",
       "      <td>scattered clouds</td>\n",
       "      <td>6.75</td>\n",
       "      <td>-11.37</td>\n",
       "      <td>Kwepunha Retreat</td>\n",
       "    </tr>\n",
       "    <tr>\n",
       "      <th>31</th>\n",
       "      <td>142</td>\n",
       "      <td>Banfora</td>\n",
       "      <td>BF</td>\n",
       "      <td>78.22</td>\n",
       "      <td>clear sky</td>\n",
       "      <td>10.64</td>\n",
       "      <td>-4.75</td>\n",
       "      <td>Residences David Hebié</td>\n",
       "    </tr>\n",
       "    <tr>\n",
       "      <th>105</th>\n",
       "      <td>413</td>\n",
       "      <td>Tombouctou</td>\n",
       "      <td>ML</td>\n",
       "      <td>84.76</td>\n",
       "      <td>few clouds</td>\n",
       "      <td>16.77</td>\n",
       "      <td>-3.01</td>\n",
       "      <td>Hotel Sahara Passion</td>\n",
       "    </tr>\n",
       "    <tr>\n",
       "      <th>56</th>\n",
       "      <td>241</td>\n",
       "      <td>Gao</td>\n",
       "      <td>ML</td>\n",
       "      <td>82.40</td>\n",
       "      <td>clear sky</td>\n",
       "      <td>16.28</td>\n",
       "      <td>-0.04</td>\n",
       "      <td>Auberge Escale Saneye</td>\n",
       "    </tr>\n",
       "    <tr>\n",
       "      <th>115</th>\n",
       "      <td>464</td>\n",
       "      <td>Ouallam</td>\n",
       "      <td>NE</td>\n",
       "      <td>85.87</td>\n",
       "      <td>clear sky</td>\n",
       "      <td>14.32</td>\n",
       "      <td>2.08</td>\n",
       "      <td>NaN</td>\n",
       "    </tr>\n",
       "  </tbody>\n",
       "</table>\n",
       "</div>"
      ],
      "text/plain": [
       "     City_ID         City Country  Max Temp Weather Description    Lat    Lng  \\\n",
       "108      431  Robertsport      LR     82.45    scattered clouds   6.75 -11.37   \n",
       "31       142      Banfora      BF     78.22           clear sky  10.64  -4.75   \n",
       "105      413   Tombouctou      ML     84.76          few clouds  16.77  -3.01   \n",
       "56       241          Gao      ML     82.40           clear sky  16.28  -0.04   \n",
       "115      464      Ouallam      NE     85.87           clear sky  14.32   2.08   \n",
       "\n",
       "                 Hotel Name  \n",
       "108        Kwepunha Retreat  \n",
       "31   Residences David Hebié  \n",
       "105    Hotel Sahara Passion  \n",
       "56    Auberge Escale Saneye  \n",
       "115                     NaN  "
      ]
     },
     "execution_count": 32,
     "metadata": {},
     "output_type": "execute_result"
    }
   ],
   "source": [
    "list_of_cities = [robertsport_data, banfora_data, \n",
    "                  tombouctou_data, gao_data, ouallam_data]\n",
    "\n",
    "destination_cities_df = pd.concat(list_of_cities)\n",
    "\n",
    "destination_cities_df"
   ]
  },
  {
   "cell_type": "code",
   "execution_count": 33,
   "metadata": {},
   "outputs": [],
   "source": []
  },
  {
   "cell_type": "code",
   "execution_count": 58,
   "metadata": {},
   "outputs": [
    {
     "data": {
      "text/plain": [
       "(10.64, -4.75)"
      ]
     },
     "execution_count": 58,
     "metadata": {},
     "output_type": "execute_result"
    }
   ],
   "source": []
  },
  {
   "cell_type": "code",
   "execution_count": 59,
   "metadata": {},
   "outputs": [
    {
     "data": {
      "application/vnd.jupyter.widget-view+json": {
       "model_id": "a6fc996a4d814daca657d6b71aa0cc00",
       "version_major": 2,
       "version_minor": 0
      },
      "text/plain": [
       "Figure(layout=FigureLayout(height='420px'))"
      ]
     },
     "metadata": {},
     "output_type": "display_data"
    }
   ],
   "source": [
    "# Want to travel from Robertsport -> Banfora -> Tombouctou -> Gao -> Ouallam\n",
    "start = (robertsport_data.iloc[0]['Lat'], robertsport_data.iloc[0]['Lng'])\n",
    "finish = (ouallam_data.iloc[0]['Lat'], ouallam_data.iloc[0]['Lng'])\n",
    "\n",
    "stop_1 = (banfora_data.iloc[0]['Lat'], banfora_data.iloc[0]['Lng'])\n",
    "stop_2 = (tombouctou_data.iloc[0]['Lat'], tombouctou_data.iloc[0]['Lng'])\n",
    "stop_3 = (gao_data.iloc[0]['Lat'], gao_data.iloc[0]['Lng'])\n",
    "\n",
    "fig = gmaps.figure()\n",
    "route = gmaps.directions_layer(start, finish, \n",
    "                               waypoints=[stop_1, stop_2, stop_3],\n",
    "                               travel_mode='DRIVING')\n",
    "\n",
    "fig.add_layer(route)\n",
    "fig"
   ]
  },
  {
   "cell_type": "code",
   "execution_count": 61,
   "metadata": {},
   "outputs": [],
   "source": [
    "# Template for pop-up marker\n",
    "info_box_template = \"\"\"\n",
    "<dl>\n",
    "<dt>Hotel Name</dt><dd>{Hotel Name}</dd>\n",
    "<dt>City</dt><dd>{City}</dd>\n",
    "<dt>Country</dt><dd>{Country}</dd>\n",
    "<dt>Current Weather</dt><dd>{Weather Description} and {Max Temp} °F</dd>\n",
    "</dl>\n",
    "\"\"\""
   ]
  },
  {
   "cell_type": "code",
   "execution_count": 62,
   "metadata": {},
   "outputs": [],
   "source": [
    "# Store the DataFrame Row.\n",
    "hotel_info = [info_box_template.format(**row) for index, row in destination_cities_df.iterrows()]"
   ]
  },
  {
   "cell_type": "code",
   "execution_count": 64,
   "metadata": {},
   "outputs": [
    {
     "data": {
      "application/vnd.jupyter.widget-view+json": {
       "model_id": "0fbfba0e096d4e8ea46099f49d3390f0",
       "version_major": 2,
       "version_minor": 0
      },
      "text/plain": [
       "Figure(layout=FigureLayout(height='420px'))"
      ]
     },
     "metadata": {},
     "output_type": "display_data"
    }
   ],
   "source": [
    "# Create a marker map\n",
    "fig = gmaps.figure()\n",
    "\n",
    "marker_layer = gmaps.marker_layer([start, finish, stop_1, stop_2, stop_3], \n",
    "                                  info_box_content=hotel_info)\n",
    "fig.add_layer(marker_layer)\n",
    "\n",
    "fig"
   ]
  },
  {
   "cell_type": "code",
   "execution_count": null,
   "metadata": {},
   "outputs": [],
   "source": []
  }
 ],
 "metadata": {
  "kernelspec": {
   "display_name": "pythondata",
   "language": "python",
   "name": "pythondata"
  },
  "language_info": {
   "codemirror_mode": {
    "name": "ipython",
    "version": 3
   },
   "file_extension": ".py",
   "mimetype": "text/x-python",
   "name": "python",
   "nbconvert_exporter": "python",
   "pygments_lexer": "ipython3",
   "version": "3.6.9"
  }
 },
 "nbformat": 4,
 "nbformat_minor": 2
}
